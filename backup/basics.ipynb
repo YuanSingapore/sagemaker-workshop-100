{
 "cells": [
  {
   "cell_type": "markdown",
   "metadata": {},
   "source": [
    "## Data Prep\n",
    "\n",
    "Download a sample form the [Amazon Customer Reviews](https://s3.amazonaws.com/amazon-reviews-pds/readme.html) dataset"
   ]
  },
  {
   "cell_type": "code",
   "execution_count": 2,
   "metadata": {},
   "outputs": [
    {
     "name": "stdout",
     "output_type": "stream",
     "text": [
      "download: s3://amazon-reviews-pds/tsv/amazon_reviews_us_Electronics_v1_00.tsv.gz to ./reviews.tsv.gz\n"
     ]
    }
   ],
   "source": [
    "!aws s3 cp s3://amazon-reviews-pds/tsv/amazon_reviews_us_Electronics_v1_00.tsv.gz reviews.tsv.gz"
   ]
  },
  {
   "cell_type": "markdown",
   "metadata": {},
   "source": [
    "Load the compressed reviews into pandas, selecting the review headling, body and star rating (should take approx 30 seconds)"
   ]
  },
  {
   "cell_type": "code",
   "execution_count": 5,
   "metadata": {},
   "outputs": [
    {
     "name": "stdout",
     "output_type": "stream",
     "text": [
      "<class 'pandas.core.frame.DataFrame'>\n",
      "Int64Index: 3090980 entries, 0 to 3091102\n",
      "Data columns (total 7 columns):\n",
      " #   Column           Dtype \n",
      "---  ------           ----- \n",
      " 0   product_id       object\n",
      " 1   product_title    object\n",
      " 2   star_rating      int64 \n",
      " 3   helpful_votes    int64 \n",
      " 4   total_votes      int64 \n",
      " 5   review_headline  object\n",
      " 6   review_body      object\n",
      "dtypes: int64(3), object(4)\n",
      "memory usage: 188.7+ MB\n",
      "CPU times: user 27.3 s, sys: 1.19 s, total: 28.5 s\n",
      "Wall time: 28.6 s\n"
     ]
    }
   ],
   "source": [
    "%%time\n",
    "import pandas as pd\n",
    "\n",
    "# Load a sample of the rows\n",
    "df_reviews = pd.read_csv('reviews.tsv.gz', compression='gzip', error_bad_lines=False, #nrows=100000,\n",
    "                         sep='\\t', usecols=['product_id', 'product_title',\n",
    "                                            'review_headline', 'review_body', 'star_rating',\n",
    "                                            'helpful_votes', 'total_votes']).dropna()\n",
    "df_reviews.info()"
   ]
  },
  {
   "cell_type": "markdown",
   "metadata": {},
   "source": [
    "Inspect the first few rows of the dataset"
   ]
  },
  {
   "cell_type": "code",
   "execution_count": 6,
   "metadata": {},
   "outputs": [
    {
     "data": {
      "text/html": [
       "<div>\n",
       "<style scoped>\n",
       "    .dataframe tbody tr th:only-of-type {\n",
       "        vertical-align: middle;\n",
       "    }\n",
       "\n",
       "    .dataframe tbody tr th {\n",
       "        vertical-align: top;\n",
       "    }\n",
       "\n",
       "    .dataframe thead th {\n",
       "        text-align: right;\n",
       "    }\n",
       "</style>\n",
       "<table border=\"1\" class=\"dataframe\">\n",
       "  <thead>\n",
       "    <tr style=\"text-align: right;\">\n",
       "      <th></th>\n",
       "      <th>product_id</th>\n",
       "      <th>product_title</th>\n",
       "      <th>star_rating</th>\n",
       "      <th>helpful_votes</th>\n",
       "      <th>total_votes</th>\n",
       "      <th>review_headline</th>\n",
       "      <th>review_body</th>\n",
       "    </tr>\n",
       "  </thead>\n",
       "  <tbody>\n",
       "    <tr>\n",
       "      <th>0</th>\n",
       "      <td>B00428R89M</td>\n",
       "      <td>yoomall 5M Antenna WIFI RP-SMA Female to Male ...</td>\n",
       "      <td>5</td>\n",
       "      <td>0</td>\n",
       "      <td>0</td>\n",
       "      <td>Five Stars</td>\n",
       "      <td>As described.</td>\n",
       "    </tr>\n",
       "    <tr>\n",
       "      <th>1</th>\n",
       "      <td>B000068O48</td>\n",
       "      <td>Hosa GPM-103 3.5mm TRS to 1/4\" TRS Adaptor</td>\n",
       "      <td>5</td>\n",
       "      <td>0</td>\n",
       "      <td>0</td>\n",
       "      <td>It works as advertising.</td>\n",
       "      <td>It works as advertising.</td>\n",
       "    </tr>\n",
       "    <tr>\n",
       "      <th>2</th>\n",
       "      <td>B000GGKOG8</td>\n",
       "      <td>Channel Master Titan 2 Antenna Preamplifier</td>\n",
       "      <td>5</td>\n",
       "      <td>1</td>\n",
       "      <td>1</td>\n",
       "      <td>Five Stars</td>\n",
       "      <td>Works pissa</td>\n",
       "    </tr>\n",
       "    <tr>\n",
       "      <th>3</th>\n",
       "      <td>B000NU4OTA</td>\n",
       "      <td>LIMTECH Wall charger + USB Hotsync &amp; Charging ...</td>\n",
       "      <td>1</td>\n",
       "      <td>0</td>\n",
       "      <td>0</td>\n",
       "      <td>One Star</td>\n",
       "      <td>Did not work at all.</td>\n",
       "    </tr>\n",
       "    <tr>\n",
       "      <th>4</th>\n",
       "      <td>B00JOQIO6S</td>\n",
       "      <td>Skullcandy Air Raid Portable Bluetooth Speaker</td>\n",
       "      <td>5</td>\n",
       "      <td>1</td>\n",
       "      <td>1</td>\n",
       "      <td>Overall pleased with the item</td>\n",
       "      <td>Works well. Bass is somewhat lacking but is pr...</td>\n",
       "    </tr>\n",
       "  </tbody>\n",
       "</table>\n",
       "</div>"
      ],
      "text/plain": [
       "   product_id                                      product_title  star_rating  \\\n",
       "0  B00428R89M  yoomall 5M Antenna WIFI RP-SMA Female to Male ...            5   \n",
       "1  B000068O48         Hosa GPM-103 3.5mm TRS to 1/4\" TRS Adaptor            5   \n",
       "2  B000GGKOG8        Channel Master Titan 2 Antenna Preamplifier            5   \n",
       "3  B000NU4OTA  LIMTECH Wall charger + USB Hotsync & Charging ...            1   \n",
       "4  B00JOQIO6S     Skullcandy Air Raid Portable Bluetooth Speaker            5   \n",
       "\n",
       "   helpful_votes  total_votes                review_headline  \\\n",
       "0              0            0                     Five Stars   \n",
       "1              0            0       It works as advertising.   \n",
       "2              1            1                     Five Stars   \n",
       "3              0            0                       One Star   \n",
       "4              1            1  Overall pleased with the item   \n",
       "\n",
       "                                         review_body  \n",
       "0                                      As described.  \n",
       "1                           It works as advertising.  \n",
       "2                                        Works pissa  \n",
       "3                               Did not work at all.  \n",
       "4  Works well. Bass is somewhat lacking but is pr...  "
      ]
     },
     "execution_count": 6,
     "metadata": {},
     "output_type": "execute_result"
    }
   ],
   "source": [
    "df_reviews.head()"
   ]
  },
  {
   "cell_type": "markdown",
   "metadata": {},
   "source": [
    "Visualize the helpful score grouped by sentiment.  We can validate a high helpfulness count is correlated with strong negative or positive reviews."
   ]
  },
  {
   "cell_type": "markdown",
   "metadata": {},
   "source": [
    "### Feature engineering\n",
    "\n",
    "Filter on reviews that have at least 5 votes, calculate a helpful score based  and rating sentiment."
   ]
  },
  {
   "cell_type": "code",
   "execution_count": null,
   "metadata": {},
   "outputs": [],
   "source": [
    "df_reviews = df_reviews[df_reviews['total_votes'] >= 5]\n",
    "df_reviews['helpful_score'] = df_reviews['helpful_votes'] / df_reviews['total_votes']\n",
    "df_reviews['sentiment'] = pd.cut(df_reviews['star_rating'], bins=[0,2,3,6], labels=['Negative','Nuetral','Positive'])\n",
    "df_reviews.describe()"
   ]
  },
  {
   "cell_type": "markdown",
   "metadata": {},
   "source": [
    "Visualize the helpful score grouped by sentiment.  We can validate a high helpfulness count is correlated with strong negative or positive reviews."
   ]
  },
  {
   "cell_type": "code",
   "execution_count": null,
   "metadata": {},
   "outputs": [],
   "source": [
    "import seaborn as sns\n",
    "import matplotlib.pyplot as plt\n",
    "\n",
    "plt.style.use(\"dark_background\")\n",
    "sns.displot(df_reviews, x='helpful_score', col='sentiment', hue='star_rating', kind='kde', palette='icefire')"
   ]
  },
  {
   "cell_type": "markdown",
   "metadata": {},
   "source": [
    "Group by the product and get the count of reviews, as well as sum of helpful and total votes."
   ]
  },
  {
   "cell_type": "code",
   "execution_count": 10,
   "metadata": {},
   "outputs": [
    {
     "data": {
      "text/html": [
       "<div>\n",
       "<style scoped>\n",
       "    .dataframe tbody tr th:only-of-type {\n",
       "        vertical-align: middle;\n",
       "    }\n",
       "\n",
       "    .dataframe tbody tr th {\n",
       "        vertical-align: top;\n",
       "    }\n",
       "\n",
       "    .dataframe thead th {\n",
       "        text-align: right;\n",
       "    }\n",
       "</style>\n",
       "<table border=\"1\" class=\"dataframe\">\n",
       "  <thead>\n",
       "    <tr style=\"text-align: right;\">\n",
       "      <th></th>\n",
       "      <th>product_id</th>\n",
       "      <th>helpful_votes</th>\n",
       "      <th>total_votes</th>\n",
       "    </tr>\n",
       "  </thead>\n",
       "  <tbody>\n",
       "    <tr>\n",
       "      <th>count</th>\n",
       "      <td>52376.000000</td>\n",
       "      <td>52376.000000</td>\n",
       "      <td>52376.000000</td>\n",
       "    </tr>\n",
       "    <tr>\n",
       "      <th>mean</th>\n",
       "      <td>5.559187</td>\n",
       "      <td>88.608828</td>\n",
       "      <td>109.393654</td>\n",
       "    </tr>\n",
       "    <tr>\n",
       "      <th>std</th>\n",
       "      <td>12.490246</td>\n",
       "      <td>371.332497</td>\n",
       "      <td>437.566803</td>\n",
       "    </tr>\n",
       "    <tr>\n",
       "      <th>min</th>\n",
       "      <td>1.000000</td>\n",
       "      <td>0.000000</td>\n",
       "      <td>5.000000</td>\n",
       "    </tr>\n",
       "    <tr>\n",
       "      <th>25%</th>\n",
       "      <td>1.000000</td>\n",
       "      <td>6.000000</td>\n",
       "      <td>9.000000</td>\n",
       "    </tr>\n",
       "    <tr>\n",
       "      <th>50%</th>\n",
       "      <td>2.000000</td>\n",
       "      <td>17.000000</td>\n",
       "      <td>22.000000</td>\n",
       "    </tr>\n",
       "    <tr>\n",
       "      <th>75%</th>\n",
       "      <td>5.000000</td>\n",
       "      <td>58.000000</td>\n",
       "      <td>73.000000</td>\n",
       "    </tr>\n",
       "    <tr>\n",
       "      <th>max</th>\n",
       "      <td>638.000000</td>\n",
       "      <td>43288.000000</td>\n",
       "      <td>46228.000000</td>\n",
       "    </tr>\n",
       "  </tbody>\n",
       "</table>\n",
       "</div>"
      ],
      "text/plain": [
       "         product_id  helpful_votes   total_votes\n",
       "count  52376.000000   52376.000000  52376.000000\n",
       "mean       5.559187      88.608828    109.393654\n",
       "std       12.490246     371.332497    437.566803\n",
       "min        1.000000       0.000000      5.000000\n",
       "25%        1.000000       6.000000      9.000000\n",
       "50%        2.000000      17.000000     22.000000\n",
       "75%        5.000000      58.000000     73.000000\n",
       "max      638.000000   43288.000000  46228.000000"
      ]
     },
     "execution_count": 10,
     "metadata": {},
     "output_type": "execute_result"
    }
   ],
   "source": [
    "df_votes =  df_reviews.groupby('product_id').agg({'product_id': 'count', 'helpful_votes': 'sum', 'total_votes': 'sum'})\n",
    "df_votes.describe()"
   ]
  },
  {
   "cell_type": "code",
   "execution_count": 11,
   "metadata": {},
   "outputs": [
    {
     "name": "stdout",
     "output_type": "stream",
     "text": [
      "<class 'pandas.core.frame.DataFrame'>\n",
      "Int64Index: 291168 entries, 18 to 3091057\n",
      "Data columns (total 12 columns):\n",
      " #   Column               Non-Null Count   Dtype   \n",
      "---  ------               --------------   -----   \n",
      " 0   product_id           291168 non-null  object  \n",
      " 1   product_title        291168 non-null  object  \n",
      " 2   star_rating          291168 non-null  int64   \n",
      " 3   helpful_votes        291168 non-null  int64   \n",
      " 4   total_votes          291168 non-null  int64   \n",
      " 5   review_headline      291168 non-null  object  \n",
      " 6   review_body          291168 non-null  object  \n",
      " 7   helpful_score        291168 non-null  float64 \n",
      " 8   sentiment            291168 non-null  category\n",
      " 9   product_id_total     291168 non-null  int64   \n",
      " 10  helpful_votes_total  291168 non-null  int64   \n",
      " 11  total_votes_total    291168 non-null  int64   \n",
      "dtypes: category(1), float64(1), int64(6), object(4)\n",
      "memory usage: 26.9+ MB\n"
     ]
    }
   ],
   "source": [
    "df_reviews = df_reviews.merge(df_votes, how='inner', left_on='product_id', right_index=True, suffixes=('','_total'))\n",
    "df_reviews.info()"
   ]
  },
  {
   "cell_type": "code",
   "execution_count": 12,
   "metadata": {},
   "outputs": [
    {
     "data": {
      "text/plain": [
       "0.5421577920650621"
      ]
     },
     "execution_count": 12,
     "metadata": {},
     "output_type": "execute_result"
    }
   ],
   "source": [
    "df_reviews['is_helpful'] = (df_reviews['helpful_score'] > 0.80)\n",
    "df_reviews['is_helpful'].sum()/df_reviews['is_helpful'].count()"
   ]
  },
  {
   "cell_type": "markdown",
   "metadata": {},
   "source": [
    "### SageMaker starts from here"
   ]
  },
  {
   "cell_type": "code",
   "execution_count": null,
   "metadata": {},
   "outputs": [],
   "source": [
    "## split the dataset into training and testing dataset"
   ]
  },
  {
   "cell_type": "code",
   "execution_count": null,
   "metadata": {},
   "outputs": [],
   "source": [
    "from sklearn.model_selection import train_test_split\n",
    "\n",
    "train_df, val_df = train_test_split(df_reviews, test_size=0.1, random_state=42) \n",
    "val_df, test_df = train_test_split(val_df, test_size=0.5, random_state=42)\n",
    "print('split train: {}, val: {}, test: {} '.format(train_df.shape[0], val_df.shape[0], test_df.shape[0]))"
   ]
  },
  {
   "cell_type": "code",
   "execution_count": null,
   "metadata": {},
   "outputs": [],
   "source": [
    "test_df.to_csv('test.csv', index=False, header=True)"
   ]
  },
  {
   "cell_type": "code",
   "execution_count": null,
   "metadata": {},
   "outputs": [],
   "source": [
    "from spacy.lang.en import English\n",
    "\n",
    "index_to_label = {0: 'NotHelpful', 1: 'Helpful'} \n",
    "nlp = English()\n",
    "tokenizer = nlp.tokenizer\n",
    "\n",
    "def labelize_df(df):\n",
    "    return '__label__' + df['is_helpful'].apply(lambda is_helpful: index_to_label[is_helpful])\n",
    "\n",
    "def tokenize_sent(sent, max_length=1000):\n",
    "    return ' '.join([token.text for token in tokenizer(sent)])[:max_length]\n",
    "\n",
    "def tokenize_df(df):\n",
    "    return (df['review_headline'].apply(tokenize_sent) + ' ' + \n",
    "            df['review_body'].apply(tokenize_sent))"
   ]
  },
  {
   "cell_type": "code",
   "execution_count": null,
   "metadata": {},
   "outputs": [],
   "source": [
    "labelize_df(train_df.head(3)) + ' ' + tokenize_df(train_df.head(3))"
   ]
  },
  {
   "cell_type": "code",
   "execution_count": null,
   "metadata": {},
   "outputs": [],
   "source": []
  },
  {
   "cell_type": "code",
   "execution_count": null,
   "metadata": {},
   "outputs": [],
   "source": [
    "%%time\n",
    "train_text.to_csv('train.txt', index=False, header=False)\n",
    "val_text.to_csv('validation.txt', index=False, header=False)"
   ]
  },
  {
   "cell_type": "code",
   "execution_count": null,
   "metadata": {},
   "outputs": [],
   "source": [
    "## Upload the dataset to S3 bucket"
   ]
  },
  {
   "cell_type": "code",
   "execution_count": null,
   "metadata": {},
   "outputs": [],
   "source": [
    "import sagemaker\n",
    "\n",
    "# Get the session and default bucket\n",
    "role = sagemaker.get_execution_role()\n",
    "session = sagemaker.session.Session()\n",
    "bucket = session.default_bucket()\n",
    "\n",
    "# Set the prefix for this dataset\n",
    "prefix = 'mab-reviews-helpfulness'\n",
    "\n",
    "s3_train_uri = session.upload_data('train.txt', bucket, prefix + '/data/training')\n",
    "s3_val_uri = session.upload_data('validation.txt', bucket, prefix + '/data/validation')\n",
    "s3_output_location = 's3://{}/{}/output'.format(bucket, prefix)"
   ]
  },
  {
   "cell_type": "markdown",
   "metadata": {},
   "source": [
    "### model training with hyperparameters"
   ]
  },
  {
   "cell_type": "code",
   "execution_count": null,
   "metadata": {},
   "outputs": [],
   "source": [
    "import boto3\n",
    "from sagemaker.estimator import Estimator\n",
    "\n",
    "region_name = boto3.Session().region_name\n",
    "image_uri = sagemaker.image_uris.retrieve(\"blazingtext\", region_name)\n",
    "\n",
    "estimator = Estimator(image_uri=image_uri,\n",
    "                      role=role, \n",
    "                      instance_count=training_instance_count, # Param\n",
    "                      instance_type=training_instance_type, # Param\n",
    "                      volume_size = 30,\n",
    "                      max_run = 360000,\n",
    "                      input_mode= 'File',\n",
    "                      output_path=s3_output_location,\n",
    "                      sagemaker_session=session)\n",
    "\n",
    "estimator.set_hyperparameters(mode=\"supervised\",\n",
    "                              epochs=10,\n",
    "                              min_epochs=5, # Min epochs before early stopping is introduced\n",
    "                              early_stopping=True,\n",
    "                              patience=2,\n",
    "                              learning_rate=0.01,\n",
    "                              min_count=2, # words that appear less than min_count are discarded \n",
    "                              word_ngrams=1, # the number of word n-gram features to use.\n",
    "                              vector_dim=16, # dimensions of embedding layer\n",
    "                              )"
   ]
  },
  {
   "cell_type": "code",
   "execution_count": null,
   "metadata": {},
   "outputs": [],
   "source": [
    "input_train = TrainingInput(s3_data=s3_train_uri, content_type=\"text/plain\")\n",
    "input_val = TrainingInput(s3_data=s3_val_uri, content_type=\"text/plain\")\n",
    "data_channels = {'train': input_train, 'validation': input_val}\n",
    "\n",
    "estimator.fit(data_channels)"
   ]
  },
  {
   "cell_type": "markdown",
   "metadata": {},
   "source": [
    "## Run Tuning Job\n",
    "\n",
    "To try and improve on our model, let's run a tuning job to find the parameters to maximize accuracy, and register this model.\n",
    "\n",
    "### Setup Hyperparamter Tuning\n",
    "\n",
    "Create the [Blazing Text](https://docs.aws.amazon.com/sagemaker/latest/dg/blazingtext.html) binary classifier for review helpfulness."
   ]
  },
  {
   "cell_type": "code",
   "execution_count": null,
   "metadata": {},
   "outputs": [],
   "source": [
    "import boto3\n",
    "from sagemaker.estimator import Estimator\n",
    "from sagemaker.inputs import TrainingInput\n",
    "from sagemaker.tuner import IntegerParameter, CategoricalParameter, ContinuousParameter, HyperparameterTuner\n",
    "\n",
    "region_name = boto3.Session().region_name\n",
    "image_uri = sagemaker.image_uris.retrieve(\"blazingtext\", region_name)\n",
    "print(f'Using container: {image_uri}')\n",
    "\n",
    "estimator = Estimator(image_uri,\n",
    "                      role, \n",
    "                      instance_count=1, \n",
    "                      instance_type='ml.c5.4xlarge',\n",
    "                      volume_size = 30,\n",
    "                      max_run = 360000,\n",
    "                      input_mode= 'File',\n",
    "                      output_path=s3_output_location,\n",
    "                      sagemaker_session=session)\n",
    "\n",
    "estimator.set_hyperparameters(mode=\"supervised\",\n",
    "                              epochs=10,\n",
    "                              min_epochs=5, # Min epochs before early stopping is introduced\n",
    "                              early_stopping=False,\n",
    "                              learning_rate=0.01,\n",
    "                              min_count=2, # words that appear less than min_count are discarded \n",
    "                              word_ngrams=1, # the number of word n-gram features to use.\n",
    "                              vector_dim=32, # dimensions of embedding layer\n",
    "                             )"
   ]
  },
  {
   "cell_type": "markdown",
   "metadata": {},
   "source": [
    "Tune an Amazon SageMaker BlazingText text classification model with the following [hyperparameters](https://docs.aws.amazon.com/sagemaker/latest/dg/blazingtext-tuning.html).\n",
    "\n",
    "\n",
    "| Parameter Name | Parameter Type | Recommended Ranges or Values | \n",
    "| --- | --- | --- | \n",
    "| buckets |  `IntegerParameterRange`  |  \\[1000000\\-10000000\\]  | \n",
    "| epochs |  `IntegerParameterRange`  |  \\[5\\-15\\]  | \n",
    "| learning\\_rate |  `ContinuousParameterRange`  |  MinValue: 0\\.005, MaxValue: 0\\.01  | \n",
    "| min\\_count |  `IntegerParameterRange`  |  \\[0\\-100\\]  | \n",
    "| mode |  `CategoricalParameterRange`  |  \\[`'supervised'`\\]  | \n",
    "| vector\\_dim |  `IntegerParameterRange`  |  \\[32\\-300\\]  | \n",
    "| word\\_ngrams |  `IntegerParameterRange`  |  \\[1\\-3\\]  | "
   ]
  },
  {
   "cell_type": "code",
   "execution_count": null,
   "metadata": {},
   "outputs": [],
   "source": []
  },
  {
   "cell_type": "code",
   "execution_count": null,
   "metadata": {},
   "outputs": [],
   "source": [
    "hyperparameter_ranges = {'epochs': IntegerParameter(5, 50),\n",
    "                        'learning_rate': ContinuousParameter(0.005, 0.01),\n",
    "                        'min_count': IntegerParameter(0, 100),\n",
    "                        'vector_dim': ContinuousParameter(1, 10),\n",
    "                        'word_ngrams': IntegerParameter(1, 3),\n",
    "                        'vector_dim': IntegerParameter(32, 300)}"
   ]
  },
  {
   "cell_type": "markdown",
   "metadata": {},
   "source": [
    "Now, we'll create a `HyperparameterTuner` object, to which we pass:\n",
    "\n",
    "* The `BlazingText` estimator we created above\n",
    "* Our hyperparameter ranges\n",
    "* Objective metric name and definition\n",
    "\n",
    "Tuning resource configurations such as Number of training jobs to run in total and how many training jobs can be run in parallel."
   ]
  },
  {
   "cell_type": "code",
   "execution_count": null,
   "metadata": {},
   "outputs": [],
   "source": [
    "max_jobs = 9\n",
    "objective_name = 'validation:accuracy'\n",
    "tuner = HyperparameterTuner(estimator, \n",
    "                            objective_name,\n",
    "                            hyperparameter_ranges,\n",
    "                            tags=project_tags,\n",
    "                            max_jobs=max_jobs,\n",
    "                            max_parallel_jobs=3)"
   ]
  },
  {
   "cell_type": "code",
   "execution_count": null,
   "metadata": {},
   "outputs": [],
   "source": [
    "input_train = TrainingInput(s3_data=s3_train_uri, content_type=\"text/plain\")\n",
    "input_val = TrainingInput(s3_data=s3_val_uri, content_type=\"text/plain\")\n",
    "data_channels = {'train': input_train, 'validation': input_val}\n",
    "\n",
    "tuner.fit(inputs=data_channels)"
   ]
  },
  {
   "cell_type": "code",
   "execution_count": null,
   "metadata": {},
   "outputs": [],
   "source": []
  },
  {
   "cell_type": "code",
   "execution_count": null,
   "metadata": {},
   "outputs": [],
   "source": [
    "## deploy the endpoint"
   ]
  },
  {
   "cell_type": "code",
   "execution_count": null,
   "metadata": {},
   "outputs": [],
   "source": [
    "# Real-time endpoint:\n",
    "predictor = estimator.deploy(\n",
    "    initial_instance_count=1,\n",
    "    instance_type=\"ml.m5.large\",\n",
    "    # wait=False,  # Remember, predictor.predict() won't work until deployment finishes!\n",
    ")"
   ]
  },
  {
   "cell_type": "code",
   "execution_count": null,
   "metadata": {},
   "outputs": [],
   "source": [
    "## test the results"
   ]
  },
  {
   "cell_type": "code",
   "execution_count": null,
   "metadata": {},
   "outputs": [],
   "source": []
  },
  {
   "cell_type": "code",
   "execution_count": null,
   "metadata": {},
   "outputs": [],
   "source": [
    "endpoint_name = f'sagemaker-{project_name}-{stage_name}' \n",
    "\n",
    "endpoint_status = sm_client.describe_endpoint(EndpointName = endpoint_name)['EndpointStatus']\n",
    "if endpoint_status != 'InService':\n",
    "    raise Exception(f'Endpoint {endpoint_name} status is: {endpoint_status}')"
   ]
  },
  {
   "cell_type": "code",
   "execution_count": null,
   "metadata": {},
   "outputs": [],
   "source": []
  }
 ],
 "metadata": {
  "instance_type": "ml.t3.medium",
  "kernelspec": {
   "display_name": "Python 3 (Data Science)",
   "language": "python",
   "name": "python3__SAGEMAKER_INTERNAL__arn:aws:sagemaker:ap-southeast-1:492261229750:image/datascience-1.0"
  },
  "language_info": {
   "codemirror_mode": {
    "name": "ipython",
    "version": 3
   },
   "file_extension": ".py",
   "mimetype": "text/x-python",
   "name": "python",
   "nbconvert_exporter": "python",
   "pygments_lexer": "ipython3",
   "version": "3.7.10"
  }
 },
 "nbformat": 4,
 "nbformat_minor": 4
}
